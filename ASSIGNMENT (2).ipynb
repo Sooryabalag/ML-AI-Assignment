{
  "nbformat": 4,
  "nbformat_minor": 0,
  "metadata": {
    "colab": {
      "provenance": []
    },
    "kernelspec": {
      "name": "python3",
      "display_name": "Python 3"
    },
    "language_info": {
      "name": "python"
    }
  },
  "cells": [
    {
      "cell_type": "markdown",
      "source": [
        "The Jokes Dataset is given\n",
        "Build a collaborative filtering based recommendation system on jokes rating"
      ],
      "metadata": {
        "id": "tP3ZFABh80CT"
      }
    },
    {
      "cell_type": "code",
      "execution_count": 2,
      "metadata": {
        "id": "8HgHVU0bZlnB"
      },
      "outputs": [],
      "source": [
        "import pandas as pd\n",
        "import numpy as np\n",
        "import matplotlib.pyplot as plt\n",
        "import seaborn as sns\n",
        "df = pd.read_csv('/content/jokes-data.csv')"
      ]
    },
    {
      "cell_type": "code",
      "source": [
        "data = pd.read_csv('/content/jokes-data.csv')"
      ],
      "metadata": {
        "id": "FZ5exWbsehAX"
      },
      "execution_count": 3,
      "outputs": []
    },
    {
      "cell_type": "code",
      "source": [
        "data"
      ],
      "metadata": {
        "colab": {
          "base_uri": "https://localhost:8080/",
          "height": 423
        },
        "id": "AHl7PTYmerOT",
        "outputId": "cf490b1e-b8e0-48e2-e599-e839eec74e7c"
      },
      "execution_count": 4,
      "outputs": [
        {
          "output_type": "execute_result",
          "data": {
            "text/plain": [
              "                id  user_id  joke_id  Rating\n",
              "0        31030_110    31030      110   2.750\n",
              "1        16144_109    16144      109   5.094\n",
              "2          23098_6    23098        6  -6.438\n",
              "3         14273_86    14273       86   4.406\n",
              "4        18419_134    18419      134   9.375\n",
              "...            ...      ...      ...     ...\n",
              "1092054   9517_132     9517      132   3.156\n",
              "1092055  27767_118    27767      118  -1.594\n",
              "1092056   10580_81    10580       81   2.000\n",
              "1092057  31007_119    31007      119   8.906\n",
              "1092058    8420_98     8420       98  -3.344\n",
              "\n",
              "[1092059 rows x 4 columns]"
            ],
            "text/html": [
              "\n",
              "  <div id=\"df-bcda4a1d-0775-46ed-8f8c-c8a5e5fbccff\" class=\"colab-df-container\">\n",
              "    <div>\n",
              "<style scoped>\n",
              "    .dataframe tbody tr th:only-of-type {\n",
              "        vertical-align: middle;\n",
              "    }\n",
              "\n",
              "    .dataframe tbody tr th {\n",
              "        vertical-align: top;\n",
              "    }\n",
              "\n",
              "    .dataframe thead th {\n",
              "        text-align: right;\n",
              "    }\n",
              "</style>\n",
              "<table border=\"1\" class=\"dataframe\">\n",
              "  <thead>\n",
              "    <tr style=\"text-align: right;\">\n",
              "      <th></th>\n",
              "      <th>id</th>\n",
              "      <th>user_id</th>\n",
              "      <th>joke_id</th>\n",
              "      <th>Rating</th>\n",
              "    </tr>\n",
              "  </thead>\n",
              "  <tbody>\n",
              "    <tr>\n",
              "      <th>0</th>\n",
              "      <td>31030_110</td>\n",
              "      <td>31030</td>\n",
              "      <td>110</td>\n",
              "      <td>2.750</td>\n",
              "    </tr>\n",
              "    <tr>\n",
              "      <th>1</th>\n",
              "      <td>16144_109</td>\n",
              "      <td>16144</td>\n",
              "      <td>109</td>\n",
              "      <td>5.094</td>\n",
              "    </tr>\n",
              "    <tr>\n",
              "      <th>2</th>\n",
              "      <td>23098_6</td>\n",
              "      <td>23098</td>\n",
              "      <td>6</td>\n",
              "      <td>-6.438</td>\n",
              "    </tr>\n",
              "    <tr>\n",
              "      <th>3</th>\n",
              "      <td>14273_86</td>\n",
              "      <td>14273</td>\n",
              "      <td>86</td>\n",
              "      <td>4.406</td>\n",
              "    </tr>\n",
              "    <tr>\n",
              "      <th>4</th>\n",
              "      <td>18419_134</td>\n",
              "      <td>18419</td>\n",
              "      <td>134</td>\n",
              "      <td>9.375</td>\n",
              "    </tr>\n",
              "    <tr>\n",
              "      <th>...</th>\n",
              "      <td>...</td>\n",
              "      <td>...</td>\n",
              "      <td>...</td>\n",
              "      <td>...</td>\n",
              "    </tr>\n",
              "    <tr>\n",
              "      <th>1092054</th>\n",
              "      <td>9517_132</td>\n",
              "      <td>9517</td>\n",
              "      <td>132</td>\n",
              "      <td>3.156</td>\n",
              "    </tr>\n",
              "    <tr>\n",
              "      <th>1092055</th>\n",
              "      <td>27767_118</td>\n",
              "      <td>27767</td>\n",
              "      <td>118</td>\n",
              "      <td>-1.594</td>\n",
              "    </tr>\n",
              "    <tr>\n",
              "      <th>1092056</th>\n",
              "      <td>10580_81</td>\n",
              "      <td>10580</td>\n",
              "      <td>81</td>\n",
              "      <td>2.000</td>\n",
              "    </tr>\n",
              "    <tr>\n",
              "      <th>1092057</th>\n",
              "      <td>31007_119</td>\n",
              "      <td>31007</td>\n",
              "      <td>119</td>\n",
              "      <td>8.906</td>\n",
              "    </tr>\n",
              "    <tr>\n",
              "      <th>1092058</th>\n",
              "      <td>8420_98</td>\n",
              "      <td>8420</td>\n",
              "      <td>98</td>\n",
              "      <td>-3.344</td>\n",
              "    </tr>\n",
              "  </tbody>\n",
              "</table>\n",
              "<p>1092059 rows × 4 columns</p>\n",
              "</div>\n",
              "    <div class=\"colab-df-buttons\">\n",
              "\n",
              "  <div class=\"colab-df-container\">\n",
              "    <button class=\"colab-df-convert\" onclick=\"convertToInteractive('df-bcda4a1d-0775-46ed-8f8c-c8a5e5fbccff')\"\n",
              "            title=\"Convert this dataframe to an interactive table.\"\n",
              "            style=\"display:none;\">\n",
              "\n",
              "  <svg xmlns=\"http://www.w3.org/2000/svg\" height=\"24px\" viewBox=\"0 -960 960 960\">\n",
              "    <path d=\"M120-120v-720h720v720H120Zm60-500h600v-160H180v160Zm220 220h160v-160H400v160Zm0 220h160v-160H400v160ZM180-400h160v-160H180v160Zm440 0h160v-160H620v160ZM180-180h160v-160H180v160Zm440 0h160v-160H620v160Z\"/>\n",
              "  </svg>\n",
              "    </button>\n",
              "\n",
              "  <style>\n",
              "    .colab-df-container {\n",
              "      display:flex;\n",
              "      gap: 12px;\n",
              "    }\n",
              "\n",
              "    .colab-df-convert {\n",
              "      background-color: #E8F0FE;\n",
              "      border: none;\n",
              "      border-radius: 50%;\n",
              "      cursor: pointer;\n",
              "      display: none;\n",
              "      fill: #1967D2;\n",
              "      height: 32px;\n",
              "      padding: 0 0 0 0;\n",
              "      width: 32px;\n",
              "    }\n",
              "\n",
              "    .colab-df-convert:hover {\n",
              "      background-color: #E2EBFA;\n",
              "      box-shadow: 0px 1px 2px rgba(60, 64, 67, 0.3), 0px 1px 3px 1px rgba(60, 64, 67, 0.15);\n",
              "      fill: #174EA6;\n",
              "    }\n",
              "\n",
              "    .colab-df-buttons div {\n",
              "      margin-bottom: 4px;\n",
              "    }\n",
              "\n",
              "    [theme=dark] .colab-df-convert {\n",
              "      background-color: #3B4455;\n",
              "      fill: #D2E3FC;\n",
              "    }\n",
              "\n",
              "    [theme=dark] .colab-df-convert:hover {\n",
              "      background-color: #434B5C;\n",
              "      box-shadow: 0px 1px 3px 1px rgba(0, 0, 0, 0.15);\n",
              "      filter: drop-shadow(0px 1px 2px rgba(0, 0, 0, 0.3));\n",
              "      fill: #FFFFFF;\n",
              "    }\n",
              "  </style>\n",
              "\n",
              "    <script>\n",
              "      const buttonEl =\n",
              "        document.querySelector('#df-bcda4a1d-0775-46ed-8f8c-c8a5e5fbccff button.colab-df-convert');\n",
              "      buttonEl.style.display =\n",
              "        google.colab.kernel.accessAllowed ? 'block' : 'none';\n",
              "\n",
              "      async function convertToInteractive(key) {\n",
              "        const element = document.querySelector('#df-bcda4a1d-0775-46ed-8f8c-c8a5e5fbccff');\n",
              "        const dataTable =\n",
              "          await google.colab.kernel.invokeFunction('convertToInteractive',\n",
              "                                                    [key], {});\n",
              "        if (!dataTable) return;\n",
              "\n",
              "        const docLinkHtml = 'Like what you see? Visit the ' +\n",
              "          '<a target=\"_blank\" href=https://colab.research.google.com/notebooks/data_table.ipynb>data table notebook</a>'\n",
              "          + ' to learn more about interactive tables.';\n",
              "        element.innerHTML = '';\n",
              "        dataTable['output_type'] = 'display_data';\n",
              "        await google.colab.output.renderOutput(dataTable, element);\n",
              "        const docLink = document.createElement('div');\n",
              "        docLink.innerHTML = docLinkHtml;\n",
              "        element.appendChild(docLink);\n",
              "      }\n",
              "    </script>\n",
              "  </div>\n",
              "\n",
              "\n",
              "<div id=\"df-8753557e-0c87-4fd1-94dc-a14a55bc6fd2\">\n",
              "  <button class=\"colab-df-quickchart\" onclick=\"quickchart('df-8753557e-0c87-4fd1-94dc-a14a55bc6fd2')\"\n",
              "            title=\"Suggest charts\"\n",
              "            style=\"display:none;\">\n",
              "\n",
              "<svg xmlns=\"http://www.w3.org/2000/svg\" height=\"24px\"viewBox=\"0 0 24 24\"\n",
              "     width=\"24px\">\n",
              "    <g>\n",
              "        <path d=\"M19 3H5c-1.1 0-2 .9-2 2v14c0 1.1.9 2 2 2h14c1.1 0 2-.9 2-2V5c0-1.1-.9-2-2-2zM9 17H7v-7h2v7zm4 0h-2V7h2v10zm4 0h-2v-4h2v4z\"/>\n",
              "    </g>\n",
              "</svg>\n",
              "  </button>\n",
              "\n",
              "<style>\n",
              "  .colab-df-quickchart {\n",
              "      --bg-color: #E8F0FE;\n",
              "      --fill-color: #1967D2;\n",
              "      --hover-bg-color: #E2EBFA;\n",
              "      --hover-fill-color: #174EA6;\n",
              "      --disabled-fill-color: #AAA;\n",
              "      --disabled-bg-color: #DDD;\n",
              "  }\n",
              "\n",
              "  [theme=dark] .colab-df-quickchart {\n",
              "      --bg-color: #3B4455;\n",
              "      --fill-color: #D2E3FC;\n",
              "      --hover-bg-color: #434B5C;\n",
              "      --hover-fill-color: #FFFFFF;\n",
              "      --disabled-bg-color: #3B4455;\n",
              "      --disabled-fill-color: #666;\n",
              "  }\n",
              "\n",
              "  .colab-df-quickchart {\n",
              "    background-color: var(--bg-color);\n",
              "    border: none;\n",
              "    border-radius: 50%;\n",
              "    cursor: pointer;\n",
              "    display: none;\n",
              "    fill: var(--fill-color);\n",
              "    height: 32px;\n",
              "    padding: 0;\n",
              "    width: 32px;\n",
              "  }\n",
              "\n",
              "  .colab-df-quickchart:hover {\n",
              "    background-color: var(--hover-bg-color);\n",
              "    box-shadow: 0 1px 2px rgba(60, 64, 67, 0.3), 0 1px 3px 1px rgba(60, 64, 67, 0.15);\n",
              "    fill: var(--button-hover-fill-color);\n",
              "  }\n",
              "\n",
              "  .colab-df-quickchart-complete:disabled,\n",
              "  .colab-df-quickchart-complete:disabled:hover {\n",
              "    background-color: var(--disabled-bg-color);\n",
              "    fill: var(--disabled-fill-color);\n",
              "    box-shadow: none;\n",
              "  }\n",
              "\n",
              "  .colab-df-spinner {\n",
              "    border: 2px solid var(--fill-color);\n",
              "    border-color: transparent;\n",
              "    border-bottom-color: var(--fill-color);\n",
              "    animation:\n",
              "      spin 1s steps(1) infinite;\n",
              "  }\n",
              "\n",
              "  @keyframes spin {\n",
              "    0% {\n",
              "      border-color: transparent;\n",
              "      border-bottom-color: var(--fill-color);\n",
              "      border-left-color: var(--fill-color);\n",
              "    }\n",
              "    20% {\n",
              "      border-color: transparent;\n",
              "      border-left-color: var(--fill-color);\n",
              "      border-top-color: var(--fill-color);\n",
              "    }\n",
              "    30% {\n",
              "      border-color: transparent;\n",
              "      border-left-color: var(--fill-color);\n",
              "      border-top-color: var(--fill-color);\n",
              "      border-right-color: var(--fill-color);\n",
              "    }\n",
              "    40% {\n",
              "      border-color: transparent;\n",
              "      border-right-color: var(--fill-color);\n",
              "      border-top-color: var(--fill-color);\n",
              "    }\n",
              "    60% {\n",
              "      border-color: transparent;\n",
              "      border-right-color: var(--fill-color);\n",
              "    }\n",
              "    80% {\n",
              "      border-color: transparent;\n",
              "      border-right-color: var(--fill-color);\n",
              "      border-bottom-color: var(--fill-color);\n",
              "    }\n",
              "    90% {\n",
              "      border-color: transparent;\n",
              "      border-bottom-color: var(--fill-color);\n",
              "    }\n",
              "  }\n",
              "</style>\n",
              "\n",
              "  <script>\n",
              "    async function quickchart(key) {\n",
              "      const quickchartButtonEl =\n",
              "        document.querySelector('#' + key + ' button');\n",
              "      quickchartButtonEl.disabled = true;  // To prevent multiple clicks.\n",
              "      quickchartButtonEl.classList.add('colab-df-spinner');\n",
              "      try {\n",
              "        const charts = await google.colab.kernel.invokeFunction(\n",
              "            'suggestCharts', [key], {});\n",
              "      } catch (error) {\n",
              "        console.error('Error during call to suggestCharts:', error);\n",
              "      }\n",
              "      quickchartButtonEl.classList.remove('colab-df-spinner');\n",
              "      quickchartButtonEl.classList.add('colab-df-quickchart-complete');\n",
              "    }\n",
              "    (() => {\n",
              "      let quickchartButtonEl =\n",
              "        document.querySelector('#df-8753557e-0c87-4fd1-94dc-a14a55bc6fd2 button');\n",
              "      quickchartButtonEl.style.display =\n",
              "        google.colab.kernel.accessAllowed ? 'block' : 'none';\n",
              "    })();\n",
              "  </script>\n",
              "</div>\n",
              "\n",
              "  <div id=\"id_859580ea-546e-4872-869c-3a1546d677ef\">\n",
              "    <style>\n",
              "      .colab-df-generate {\n",
              "        background-color: #E8F0FE;\n",
              "        border: none;\n",
              "        border-radius: 50%;\n",
              "        cursor: pointer;\n",
              "        display: none;\n",
              "        fill: #1967D2;\n",
              "        height: 32px;\n",
              "        padding: 0 0 0 0;\n",
              "        width: 32px;\n",
              "      }\n",
              "\n",
              "      .colab-df-generate:hover {\n",
              "        background-color: #E2EBFA;\n",
              "        box-shadow: 0px 1px 2px rgba(60, 64, 67, 0.3), 0px 1px 3px 1px rgba(60, 64, 67, 0.15);\n",
              "        fill: #174EA6;\n",
              "      }\n",
              "\n",
              "      [theme=dark] .colab-df-generate {\n",
              "        background-color: #3B4455;\n",
              "        fill: #D2E3FC;\n",
              "      }\n",
              "\n",
              "      [theme=dark] .colab-df-generate:hover {\n",
              "        background-color: #434B5C;\n",
              "        box-shadow: 0px 1px 3px 1px rgba(0, 0, 0, 0.15);\n",
              "        filter: drop-shadow(0px 1px 2px rgba(0, 0, 0, 0.3));\n",
              "        fill: #FFFFFF;\n",
              "      }\n",
              "    </style>\n",
              "    <button class=\"colab-df-generate\" onclick=\"generateWithVariable('data')\"\n",
              "            title=\"Generate code using this dataframe.\"\n",
              "            style=\"display:none;\">\n",
              "\n",
              "  <svg xmlns=\"http://www.w3.org/2000/svg\" height=\"24px\"viewBox=\"0 0 24 24\"\n",
              "       width=\"24px\">\n",
              "    <path d=\"M7,19H8.4L18.45,9,17,7.55,7,17.6ZM5,21V16.75L18.45,3.32a2,2,0,0,1,2.83,0l1.4,1.43a1.91,1.91,0,0,1,.58,1.4,1.91,1.91,0,0,1-.58,1.4L9.25,21ZM18.45,9,17,7.55Zm-12,3A5.31,5.31,0,0,0,4.9,8.1,5.31,5.31,0,0,0,1,6.5,5.31,5.31,0,0,0,4.9,4.9,5.31,5.31,0,0,0,6.5,1,5.31,5.31,0,0,0,8.1,4.9,5.31,5.31,0,0,0,12,6.5,5.46,5.46,0,0,0,6.5,12Z\"/>\n",
              "  </svg>\n",
              "    </button>\n",
              "    <script>\n",
              "      (() => {\n",
              "      const buttonEl =\n",
              "        document.querySelector('#id_859580ea-546e-4872-869c-3a1546d677ef button.colab-df-generate');\n",
              "      buttonEl.style.display =\n",
              "        google.colab.kernel.accessAllowed ? 'block' : 'none';\n",
              "\n",
              "      buttonEl.onclick = () => {\n",
              "        google.colab.notebook.generateWithVariable('data');\n",
              "      }\n",
              "      })();\n",
              "    </script>\n",
              "  </div>\n",
              "\n",
              "    </div>\n",
              "  </div>\n"
            ],
            "application/vnd.google.colaboratory.intrinsic+json": {
              "type": "dataframe",
              "variable_name": "data"
            }
          },
          "metadata": {},
          "execution_count": 4
        }
      ]
    },
    {
      "cell_type": "code",
      "source": [
        "import pandas as pd\n",
        "from sklearn.impute import SimpleImputer\n",
        "from sklearn.preprocessing import StandardScaler, OneHotEncoder\n",
        "from sklearn.compose import ColumnTransformer\n",
        "\n",
        "test_data = pd.read_csv(\"/content/jokes-data.csv\")"
      ],
      "metadata": {
        "id": "dCs-k-c-Lgi0"
      },
      "execution_count": 5,
      "outputs": []
    },
    {
      "cell_type": "code",
      "source": [
        "X_test = test_data.drop(columns=[\"id\"])\n",
        "y_test = test_data[\"Rating\"]"
      ],
      "metadata": {
        "id": "6vZqE2T-fdSj"
      },
      "execution_count": 6,
      "outputs": []
    },
    {
      "cell_type": "code",
      "source": [
        "\n",
        "categorical_features = [\"id\", \"Rating\"]\n",
        "numerical_features = [\"user_id\",\"joke_id\"]"
      ],
      "metadata": {
        "id": "66FZWctUfs0O"
      },
      "execution_count": 7,
      "outputs": []
    },
    {
      "cell_type": "code",
      "source": [
        "numeric_transformer = StandardScaler()\n",
        "categorical_transformer = OneHotEncoder()"
      ],
      "metadata": {
        "id": "T062wyEqgPi0"
      },
      "execution_count": 8,
      "outputs": []
    },
    {
      "cell_type": "code",
      "source": [
        "preprocessor = ColumnTransformer(\n",
        "    transformers=[\n",
        "        (\"num\", numeric_transformer, numerical_features),\n",
        "        (\"cat\", categorical_transformer, categorical_features)\n",
        "    ])"
      ],
      "metadata": {
        "id": "9iYEPihIguii"
      },
      "execution_count": 9,
      "outputs": []
    },
    {
      "cell_type": "code",
      "source": [
        "\n",
        "print(X_test.columns)"
      ],
      "metadata": {
        "colab": {
          "base_uri": "https://localhost:8080/"
        },
        "id": "OWJkzwEAgxdD",
        "outputId": "4677ce0e-b93e-4446-95ed-35f722f5c4b3"
      },
      "execution_count": 10,
      "outputs": [
        {
          "output_type": "stream",
          "name": "stdout",
          "text": [
            "Index(['user_id', 'joke_id', 'Rating'], dtype='object')\n"
          ]
        }
      ]
    },
    {
      "cell_type": "code",
      "source": [
        "df = pd.read_csv('jokes-data.csv')\n",
        "\n",
        "# Check for missing values\n",
        "missing_values = df.isnull().sum()\n",
        "print(\"Missing values:\\n\", missing_values)\n",
        "\n",
        "df.to_csv('preprocessed_jokes_data.csv', index=False)"
      ],
      "metadata": {
        "colab": {
          "base_uri": "https://localhost:8080/"
        },
        "id": "-amlgO7u7ANr",
        "outputId": "faf6080d-99d3-40c2-a0c5-470a443abb86"
      },
      "execution_count": 11,
      "outputs": [
        {
          "output_type": "stream",
          "name": "stdout",
          "text": [
            "Missing values:\n",
            " id         0\n",
            "user_id    0\n",
            "joke_id    0\n",
            "Rating     0\n",
            "dtype: int64\n"
          ]
        }
      ]
    },
    {
      "cell_type": "code",
      "source": [
        "import pandas as pd\n",
        "\n",
        "# Load the preprocessed dataset\n",
        "df = pd.read_csv('preprocessed_jokes_data.csv')\n",
        "\n",
        "# Create the user-item matrix\n",
        "user_item_matrix = df.pivot_table(index='user_id', columns='joke_id', values='Rating')\n",
        "\n",
        "# Fill missing values (if any) with a default value, such as 0\n",
        "user_item_matrix = user_item_matrix.fillna(0)\n",
        "\n",
        "# Save the user-item matrix to a CSV file (optional)\n",
        "user_item_matrix.to_csv('user_item_matrix.csv')\n",
        "\n",
        "# Print the user-item matrix\n",
        "print(\"User-Item Matrix:\")\n",
        "print(user_item_matrix)"
      ],
      "metadata": {
        "colab": {
          "base_uri": "https://localhost:8080/"
        },
        "id": "sqEmAPNO8OKx",
        "outputId": "2f9044d2-9db0-497c-bb0b-638f6f8f56cd"
      },
      "execution_count": 12,
      "outputs": [
        {
          "output_type": "stream",
          "name": "stdout",
          "text": [
            "User-Item Matrix:\n",
            "joke_id    1      2      3      4      5      6      7      8      9      10   \\\n",
            "user_id                                                                         \n",
            "1        0.219 -9.281  0.000 -6.781  0.875 -9.656 -9.031 -7.469 -8.719  0.000   \n",
            "2       -9.688  9.938  9.531  9.938  0.406  0.000  9.656  0.000  0.000 -9.125   \n",
            "3        0.000  0.000 -7.219 -2.031 -9.938  0.000  0.000 -9.812 -9.781  0.000   \n",
            "4        6.906  0.000 -5.906  0.000  0.000  3.875  6.219  0.000  6.094  5.406   \n",
            "5       -0.031  0.000  0.000  7.500 -7.219  0.000  0.000  0.000  3.656  0.000   \n",
            "...        ...    ...    ...    ...    ...    ...    ...    ...    ...    ...   \n",
            "40859    0.000 -1.750 -0.094  0.000  8.219  0.000  5.094  1.438  3.094  0.000   \n",
            "40860    0.000  0.000 -7.375  9.688  0.000 -7.938  0.000  0.656  0.656  0.000   \n",
            "40861    0.000 -4.594 -4.312  3.000  3.938 -9.219  0.000  0.000  4.531  0.000   \n",
            "40862    0.000 -4.438  1.531  0.000 -9.156 -7.438  2.250  3.750  0.000  0.000   \n",
            "40863    0.000 -7.906  0.000 -7.594 -6.375 -6.375 -6.375 -6.375 -1.812  0.000   \n",
            "\n",
            "joke_id  ...  130    131    132    133  134    135    136    137  138  139  \n",
            "user_id  ...                                                                \n",
            "1        ...  0.0  0.000  0.000  0.000  0.0  0.000  0.000  0.000  0.0  0.0  \n",
            "2        ...  0.0  0.000  0.000  0.000  0.0  0.000  0.000  0.000  0.0  0.0  \n",
            "3        ...  0.0  0.000  0.000  0.000  0.0  0.000  0.000  0.000  0.0  0.0  \n",
            "4        ...  0.0  0.000  0.000  0.000  0.0  0.000  0.000  0.000  0.0  0.0  \n",
            "5        ...  0.0  0.000  0.000  0.000  0.0  0.000  0.000  0.000  0.0  0.0  \n",
            "...      ...  ...    ...    ...    ...  ...    ...    ...    ...  ...  ...  \n",
            "40859    ...  0.0  0.000  0.000  0.000  0.0  0.000  0.000  0.000  0.0  0.0  \n",
            "40860    ...  0.0  0.000  0.000  0.000  0.0  0.000  0.000  0.000  0.0  0.0  \n",
            "40861    ...  0.0  0.000  0.000  0.000  0.0  0.000  0.000  0.000  0.0  0.0  \n",
            "40862    ...  0.0  0.000  0.000  0.000  0.0  0.000  0.000  0.000  0.0  0.0  \n",
            "40863    ... -6.5 -8.312  7.844  8.906  8.5  8.375  8.938  8.281  0.0  0.0  \n",
            "\n",
            "[40863 rows x 139 columns]\n"
          ]
        }
      ]
    },
    {
      "cell_type": "code",
      "source": [
        "!pip install scikit-surprise"
      ],
      "metadata": {
        "colab": {
          "base_uri": "https://localhost:8080/"
        },
        "id": "vZcyEv44Cync",
        "outputId": "6a22e471-d2c2-40c9-fd87-a66645890198"
      },
      "execution_count": 2,
      "outputs": [
        {
          "output_type": "stream",
          "name": "stdout",
          "text": [
            "Requirement already satisfied: scikit-surprise in /usr/local/lib/python3.10/dist-packages (1.1.3)\n",
            "Requirement already satisfied: joblib>=1.0.0 in /usr/local/lib/python3.10/dist-packages (from scikit-surprise) (1.3.2)\n",
            "Requirement already satisfied: numpy>=1.17.3 in /usr/local/lib/python3.10/dist-packages (from scikit-surprise) (1.25.2)\n",
            "Requirement already satisfied: scipy>=1.3.2 in /usr/local/lib/python3.10/dist-packages (from scikit-surprise) (1.11.4)\n"
          ]
        }
      ]
    },
    {
      "cell_type": "code",
      "source": [
        "from surprise import Dataset, Reader, KNNBasic\n",
        "from surprise.model_selection import train_test_split\n",
        "from surprise import accuracy"
      ],
      "metadata": {
        "id": "0bwK_slgDB4y"
      },
      "execution_count": 3,
      "outputs": []
    },
    {
      "cell_type": "code",
      "source": [
        "reader = Reader(line_format='user item rating', sep=',', skip_lines=1)"
      ],
      "metadata": {
        "id": "1GZ8WD2NDmw1"
      },
      "execution_count": 4,
      "outputs": []
    },
    {
      "cell_type": "code",
      "source": [
        "# Step 1: Data Preprocessing\n",
        "reader = Reader(line_format='user item rating', sep=',', skip_lines=1)\n",
        "data = Dataset.load_from_file('jokes-data.csv', reader=reader)\n",
        "trainset, testset = train_test_split(data, test_size=0.2)\n"
      ],
      "metadata": {
        "id": "xviegs2hDTqN"
      },
      "execution_count": 5,
      "outputs": []
    },
    {
      "cell_type": "code",
      "source": [
        "# Step 2: Build the collaborative filtering model\n",
        "sim_options = {'name': 'cosine', 'user_based': True}  # User-based CF with cosine similarity\n",
        "algo = KNNBasic(sim_options=sim_options)\n"
      ],
      "metadata": {
        "id": "w5YQ03iDFGHD"
      },
      "execution_count": 6,
      "outputs": []
    },
    {
      "cell_type": "code",
      "source": [
        "# Step 3: Train the model\n",
        "algo.fit(trainset)\n",
        "# Step 4: Make predictions\n",
        "predictions = algo.test(testset)\n",
        "\n",
        "# Step 5: Evaluate the model\n",
        "accuracy.rmse(predictions)\n",
        "\n",
        "# Step 6: Generate recommendations\n",
        "user_id = 'example_user_id'  # Replace with the actual user ID\n",
        "top_n = 10  # Number of recommendations to generate\n",
        "\n",
        "# Get the top n recommendations for the user\n",
        "recommendations = []\n",
        "for joke_id in range(1, 101):  # Assuming 100 jokes\n",
        "    prediction = algo.predict(user_id, joke_id)\n",
        "    recommendations.append((joke_id, prediction.est))\n",
        "\n",
        "# Sort the recommendations by predicted rating\n",
        "recommendations.sort(key=lambda x: x[1], reverse=True)\n",
        "\n",
        "\n",
        "# Display the top n recommendations\n",
        "print(f\"Top {top_n} recommendations for user {user_id}:\")\n",
        "for i, (joke_id, rating) in enumerate(recommendations[:top_n], 1):\n",
        "    print(f\"{i}. Joke ID: {joke_id}, Predicted Rating: {rating}\")\n"
      ],
      "metadata": {
        "id": "7ltfFzSaFNMl"
      },
      "execution_count": null,
      "outputs": []
    }
  ]
}